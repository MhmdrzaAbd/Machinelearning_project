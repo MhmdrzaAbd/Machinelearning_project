{
 "cells": [
  {
   "cell_type": "code",
   "execution_count": 1,
   "metadata": {},
   "outputs": [],
   "source": [
    "import pandas as pd"
   ]
  },
  {
   "cell_type": "code",
   "execution_count": 2,
   "metadata": {},
   "outputs": [],
   "source": [
    "data = pd.read_csv('BTC-USD.csv')"
   ]
  },
  {
   "cell_type": "code",
   "execution_count": 3,
   "metadata": {},
   "outputs": [
    {
     "data": {
      "text/html": [
       "<div>\n",
       "<style scoped>\n",
       "    .dataframe tbody tr th:only-of-type {\n",
       "        vertical-align: middle;\n",
       "    }\n",
       "\n",
       "    .dataframe tbody tr th {\n",
       "        vertical-align: top;\n",
       "    }\n",
       "\n",
       "    .dataframe thead th {\n",
       "        text-align: right;\n",
       "    }\n",
       "</style>\n",
       "<table border=\"1\" class=\"dataframe\">\n",
       "  <thead>\n",
       "    <tr style=\"text-align: right;\">\n",
       "      <th></th>\n",
       "      <th>Date</th>\n",
       "      <th>Open</th>\n",
       "      <th>High</th>\n",
       "      <th>Low</th>\n",
       "      <th>Close</th>\n",
       "      <th>Adj Close</th>\n",
       "      <th>Volume</th>\n",
       "    </tr>\n",
       "  </thead>\n",
       "  <tbody>\n",
       "    <tr>\n",
       "      <th>0</th>\n",
       "      <td>2020-08-24</td>\n",
       "      <td>11663.689453</td>\n",
       "      <td>11807.631836</td>\n",
       "      <td>11623.250000</td>\n",
       "      <td>11774.595703</td>\n",
       "      <td>11774.595703</td>\n",
       "      <td>2.068151e+10</td>\n",
       "    </tr>\n",
       "    <tr>\n",
       "      <th>1</th>\n",
       "      <td>2020-08-25</td>\n",
       "      <td>11773.588867</td>\n",
       "      <td>11778.299805</td>\n",
       "      <td>11189.850586</td>\n",
       "      <td>11366.134766</td>\n",
       "      <td>11366.134766</td>\n",
       "      <td>2.630151e+10</td>\n",
       "    </tr>\n",
       "    <tr>\n",
       "      <th>2</th>\n",
       "      <td>2020-08-26</td>\n",
       "      <td>11366.894531</td>\n",
       "      <td>11530.052734</td>\n",
       "      <td>11296.993164</td>\n",
       "      <td>11488.363281</td>\n",
       "      <td>11488.363281</td>\n",
       "      <td>2.246666e+10</td>\n",
       "    </tr>\n",
       "    <tr>\n",
       "      <th>3</th>\n",
       "      <td>2020-08-27</td>\n",
       "      <td>11485.608398</td>\n",
       "      <td>11570.786133</td>\n",
       "      <td>11185.941406</td>\n",
       "      <td>11323.397461</td>\n",
       "      <td>11323.397461</td>\n",
       "      <td>2.324042e+10</td>\n",
       "    </tr>\n",
       "    <tr>\n",
       "      <th>4</th>\n",
       "      <td>2020-08-28</td>\n",
       "      <td>11325.295898</td>\n",
       "      <td>11545.615234</td>\n",
       "      <td>11316.422852</td>\n",
       "      <td>11542.500000</td>\n",
       "      <td>11542.500000</td>\n",
       "      <td>1.980713e+10</td>\n",
       "    </tr>\n",
       "  </tbody>\n",
       "</table>\n",
       "</div>"
      ],
      "text/plain": [
       "         Date          Open          High           Low         Close  \\\n",
       "0  2020-08-24  11663.689453  11807.631836  11623.250000  11774.595703   \n",
       "1  2020-08-25  11773.588867  11778.299805  11189.850586  11366.134766   \n",
       "2  2020-08-26  11366.894531  11530.052734  11296.993164  11488.363281   \n",
       "3  2020-08-27  11485.608398  11570.786133  11185.941406  11323.397461   \n",
       "4  2020-08-28  11325.295898  11545.615234  11316.422852  11542.500000   \n",
       "\n",
       "      Adj Close        Volume  \n",
       "0  11774.595703  2.068151e+10  \n",
       "1  11366.134766  2.630151e+10  \n",
       "2  11488.363281  2.246666e+10  \n",
       "3  11323.397461  2.324042e+10  \n",
       "4  11542.500000  1.980713e+10  "
      ]
     },
     "execution_count": 3,
     "metadata": {},
     "output_type": "execute_result"
    }
   ],
   "source": [
    "data.head()"
   ]
  },
  {
   "cell_type": "code",
   "execution_count": 4,
   "metadata": {
    "scrolled": true
   },
   "outputs": [],
   "source": [
    "data.dropna(inplace=True)"
   ]
  },
  {
   "cell_type": "code",
   "execution_count": 5,
   "metadata": {},
   "outputs": [],
   "source": [
    "close = data['Close']"
   ]
  },
  {
   "cell_type": "code",
   "execution_count": 6,
   "metadata": {},
   "outputs": [
    {
     "data": {
      "text/plain": [
       "0      11774.595703\n",
       "1      11366.134766\n",
       "2      11488.363281\n",
       "3      11323.397461\n",
       "4      11542.500000\n",
       "           ...     \n",
       "361    49339.175781\n",
       "362    48905.492188\n",
       "363    49321.652344\n",
       "364    49546.148438\n",
       "365    49754.507813\n",
       "Name: Close, Length: 363, dtype: float64"
      ]
     },
     "execution_count": 6,
     "metadata": {},
     "output_type": "execute_result"
    }
   ],
   "source": [
    "close"
   ]
  },
  {
   "cell_type": "code",
   "execution_count": 7,
   "metadata": {},
   "outputs": [],
   "source": [
    "close_yest =close.shift()\n",
    "close_2d =close.shift(2)\n",
    "close_3d =close.shift(3)"
   ]
  },
  {
   "cell_type": "code",
   "execution_count": 8,
   "metadata": {},
   "outputs": [],
   "source": [
    "close_yest.loc[0]= close_yest.loc[1]\n",
    "\n",
    "close_2d.loc[0]= close_2d.loc[2]\n",
    "close_2d.loc[1]= close_2d.loc[2]\n",
    "\n",
    "close_3d.loc[0]= close_3d.loc[3]\n",
    "close_3d.loc[1]= close_3d.loc[3]\n",
    "close_3d.loc[2]= close_3d.loc[3]"
   ]
  },
  {
   "cell_type": "code",
   "execution_count": 9,
   "metadata": {},
   "outputs": [
    {
     "data": {
      "text/plain": [
       "0      11774.595703\n",
       "1      11774.595703\n",
       "2      11366.134766\n",
       "3      11488.363281\n",
       "4      11323.397461\n",
       "           ...     \n",
       "361    46717.578125\n",
       "362    49339.175781\n",
       "363    48905.492188\n",
       "364    49321.652344\n",
       "365    49546.148438\n",
       "Name: Close, Length: 363, dtype: float64"
      ]
     },
     "execution_count": 9,
     "metadata": {},
     "output_type": "execute_result"
    }
   ],
   "source": [
    "close_yest"
   ]
  },
  {
   "cell_type": "code",
   "execution_count": 10,
   "metadata": {},
   "outputs": [
    {
     "data": {
      "text/plain": [
       "0      11774.595703\n",
       "1      11774.595703\n",
       "2      11774.595703\n",
       "3      11366.134766\n",
       "4      11488.363281\n",
       "           ...     \n",
       "361    44801.187500\n",
       "362    46717.578125\n",
       "363    49339.175781\n",
       "364    48905.492188\n",
       "365    49321.652344\n",
       "Name: Close, Length: 363, dtype: float64"
      ]
     },
     "execution_count": 10,
     "metadata": {},
     "output_type": "execute_result"
    }
   ],
   "source": [
    "close_2d"
   ]
  },
  {
   "cell_type": "code",
   "execution_count": 11,
   "metadata": {},
   "outputs": [
    {
     "data": {
      "text/plain": [
       "0      11774.595703\n",
       "1      11774.595703\n",
       "2      11774.595703\n",
       "3      11774.595703\n",
       "4      11366.134766\n",
       "           ...     \n",
       "361    44695.359375\n",
       "362    44801.187500\n",
       "363    46717.578125\n",
       "364    49339.175781\n",
       "365    48905.492188\n",
       "Name: Close, Length: 363, dtype: float64"
      ]
     },
     "execution_count": 11,
     "metadata": {},
     "output_type": "execute_result"
    }
   ],
   "source": [
    "close_3d"
   ]
  },
  {
   "cell_type": "code",
   "execution_count": 12,
   "metadata": {},
   "outputs": [],
   "source": [
    "data['Yesterday Close']= close_yest\n",
    "data['2days ago Close']= close_2d\n",
    "data['3days ago Close']= close_3d"
   ]
  },
  {
   "cell_type": "code",
   "execution_count": 13,
   "metadata": {},
   "outputs": [
    {
     "data": {
      "text/html": [
       "<div>\n",
       "<style scoped>\n",
       "    .dataframe tbody tr th:only-of-type {\n",
       "        vertical-align: middle;\n",
       "    }\n",
       "\n",
       "    .dataframe tbody tr th {\n",
       "        vertical-align: top;\n",
       "    }\n",
       "\n",
       "    .dataframe thead th {\n",
       "        text-align: right;\n",
       "    }\n",
       "</style>\n",
       "<table border=\"1\" class=\"dataframe\">\n",
       "  <thead>\n",
       "    <tr style=\"text-align: right;\">\n",
       "      <th></th>\n",
       "      <th>Date</th>\n",
       "      <th>Open</th>\n",
       "      <th>High</th>\n",
       "      <th>Low</th>\n",
       "      <th>Close</th>\n",
       "      <th>Adj Close</th>\n",
       "      <th>Volume</th>\n",
       "      <th>Yesterday Close</th>\n",
       "      <th>2days ago Close</th>\n",
       "      <th>3days ago Close</th>\n",
       "    </tr>\n",
       "  </thead>\n",
       "  <tbody>\n",
       "    <tr>\n",
       "      <th>0</th>\n",
       "      <td>2020-08-24</td>\n",
       "      <td>11663.689453</td>\n",
       "      <td>11807.631836</td>\n",
       "      <td>11623.250000</td>\n",
       "      <td>11774.595703</td>\n",
       "      <td>11774.595703</td>\n",
       "      <td>2.068151e+10</td>\n",
       "      <td>11774.595703</td>\n",
       "      <td>11774.595703</td>\n",
       "      <td>11774.595703</td>\n",
       "    </tr>\n",
       "    <tr>\n",
       "      <th>1</th>\n",
       "      <td>2020-08-25</td>\n",
       "      <td>11773.588867</td>\n",
       "      <td>11778.299805</td>\n",
       "      <td>11189.850586</td>\n",
       "      <td>11366.134766</td>\n",
       "      <td>11366.134766</td>\n",
       "      <td>2.630151e+10</td>\n",
       "      <td>11774.595703</td>\n",
       "      <td>11774.595703</td>\n",
       "      <td>11774.595703</td>\n",
       "    </tr>\n",
       "    <tr>\n",
       "      <th>2</th>\n",
       "      <td>2020-08-26</td>\n",
       "      <td>11366.894531</td>\n",
       "      <td>11530.052734</td>\n",
       "      <td>11296.993164</td>\n",
       "      <td>11488.363281</td>\n",
       "      <td>11488.363281</td>\n",
       "      <td>2.246666e+10</td>\n",
       "      <td>11366.134766</td>\n",
       "      <td>11774.595703</td>\n",
       "      <td>11774.595703</td>\n",
       "    </tr>\n",
       "    <tr>\n",
       "      <th>3</th>\n",
       "      <td>2020-08-27</td>\n",
       "      <td>11485.608398</td>\n",
       "      <td>11570.786133</td>\n",
       "      <td>11185.941406</td>\n",
       "      <td>11323.397461</td>\n",
       "      <td>11323.397461</td>\n",
       "      <td>2.324042e+10</td>\n",
       "      <td>11488.363281</td>\n",
       "      <td>11366.134766</td>\n",
       "      <td>11774.595703</td>\n",
       "    </tr>\n",
       "    <tr>\n",
       "      <th>4</th>\n",
       "      <td>2020-08-28</td>\n",
       "      <td>11325.295898</td>\n",
       "      <td>11545.615234</td>\n",
       "      <td>11316.422852</td>\n",
       "      <td>11542.500000</td>\n",
       "      <td>11542.500000</td>\n",
       "      <td>1.980713e+10</td>\n",
       "      <td>11323.397461</td>\n",
       "      <td>11488.363281</td>\n",
       "      <td>11366.134766</td>\n",
       "    </tr>\n",
       "    <tr>\n",
       "      <th>...</th>\n",
       "      <td>...</td>\n",
       "      <td>...</td>\n",
       "      <td>...</td>\n",
       "      <td>...</td>\n",
       "      <td>...</td>\n",
       "      <td>...</td>\n",
       "      <td>...</td>\n",
       "      <td>...</td>\n",
       "      <td>...</td>\n",
       "      <td>...</td>\n",
       "    </tr>\n",
       "    <tr>\n",
       "      <th>361</th>\n",
       "      <td>2021-08-20</td>\n",
       "      <td>46723.121094</td>\n",
       "      <td>49342.152344</td>\n",
       "      <td>46650.707031</td>\n",
       "      <td>49339.175781</td>\n",
       "      <td>49339.175781</td>\n",
       "      <td>3.470687e+10</td>\n",
       "      <td>46717.578125</td>\n",
       "      <td>44801.187500</td>\n",
       "      <td>44695.359375</td>\n",
       "    </tr>\n",
       "    <tr>\n",
       "      <th>362</th>\n",
       "      <td>2021-08-21</td>\n",
       "      <td>49327.074219</td>\n",
       "      <td>49717.019531</td>\n",
       "      <td>48312.199219</td>\n",
       "      <td>48905.492188</td>\n",
       "      <td>48905.492188</td>\n",
       "      <td>4.058521e+10</td>\n",
       "      <td>49339.175781</td>\n",
       "      <td>46717.578125</td>\n",
       "      <td>44801.187500</td>\n",
       "    </tr>\n",
       "    <tr>\n",
       "      <th>363</th>\n",
       "      <td>2021-08-22</td>\n",
       "      <td>48869.105469</td>\n",
       "      <td>49471.609375</td>\n",
       "      <td>48199.941406</td>\n",
       "      <td>49321.652344</td>\n",
       "      <td>49321.652344</td>\n",
       "      <td>2.537098e+10</td>\n",
       "      <td>48905.492188</td>\n",
       "      <td>49339.175781</td>\n",
       "      <td>46717.578125</td>\n",
       "    </tr>\n",
       "    <tr>\n",
       "      <th>364</th>\n",
       "      <td>2021-08-23</td>\n",
       "      <td>49291.675781</td>\n",
       "      <td>50482.078125</td>\n",
       "      <td>49074.605469</td>\n",
       "      <td>49546.148438</td>\n",
       "      <td>49546.148438</td>\n",
       "      <td>3.430505e+10</td>\n",
       "      <td>49321.652344</td>\n",
       "      <td>48905.492188</td>\n",
       "      <td>49339.175781</td>\n",
       "    </tr>\n",
       "    <tr>\n",
       "      <th>365</th>\n",
       "      <td>2021-08-24</td>\n",
       "      <td>49461.226563</td>\n",
       "      <td>49860.957031</td>\n",
       "      <td>48877.109375</td>\n",
       "      <td>49754.507813</td>\n",
       "      <td>49754.507813</td>\n",
       "      <td>3.522984e+10</td>\n",
       "      <td>49546.148438</td>\n",
       "      <td>49321.652344</td>\n",
       "      <td>48905.492188</td>\n",
       "    </tr>\n",
       "  </tbody>\n",
       "</table>\n",
       "<p>363 rows × 10 columns</p>\n",
       "</div>"
      ],
      "text/plain": [
       "           Date          Open          High           Low         Close  \\\n",
       "0    2020-08-24  11663.689453  11807.631836  11623.250000  11774.595703   \n",
       "1    2020-08-25  11773.588867  11778.299805  11189.850586  11366.134766   \n",
       "2    2020-08-26  11366.894531  11530.052734  11296.993164  11488.363281   \n",
       "3    2020-08-27  11485.608398  11570.786133  11185.941406  11323.397461   \n",
       "4    2020-08-28  11325.295898  11545.615234  11316.422852  11542.500000   \n",
       "..          ...           ...           ...           ...           ...   \n",
       "361  2021-08-20  46723.121094  49342.152344  46650.707031  49339.175781   \n",
       "362  2021-08-21  49327.074219  49717.019531  48312.199219  48905.492188   \n",
       "363  2021-08-22  48869.105469  49471.609375  48199.941406  49321.652344   \n",
       "364  2021-08-23  49291.675781  50482.078125  49074.605469  49546.148438   \n",
       "365  2021-08-24  49461.226563  49860.957031  48877.109375  49754.507813   \n",
       "\n",
       "        Adj Close        Volume  Yesterday Close  2days ago Close  \\\n",
       "0    11774.595703  2.068151e+10     11774.595703     11774.595703   \n",
       "1    11366.134766  2.630151e+10     11774.595703     11774.595703   \n",
       "2    11488.363281  2.246666e+10     11366.134766     11774.595703   \n",
       "3    11323.397461  2.324042e+10     11488.363281     11366.134766   \n",
       "4    11542.500000  1.980713e+10     11323.397461     11488.363281   \n",
       "..            ...           ...              ...              ...   \n",
       "361  49339.175781  3.470687e+10     46717.578125     44801.187500   \n",
       "362  48905.492188  4.058521e+10     49339.175781     46717.578125   \n",
       "363  49321.652344  2.537098e+10     48905.492188     49339.175781   \n",
       "364  49546.148438  3.430505e+10     49321.652344     48905.492188   \n",
       "365  49754.507813  3.522984e+10     49546.148438     49321.652344   \n",
       "\n",
       "     3days ago Close  \n",
       "0       11774.595703  \n",
       "1       11774.595703  \n",
       "2       11774.595703  \n",
       "3       11774.595703  \n",
       "4       11366.134766  \n",
       "..               ...  \n",
       "361     44695.359375  \n",
       "362     44801.187500  \n",
       "363     46717.578125  \n",
       "364     49339.175781  \n",
       "365     48905.492188  \n",
       "\n",
       "[363 rows x 10 columns]"
      ]
     },
     "execution_count": 13,
     "metadata": {},
     "output_type": "execute_result"
    }
   ],
   "source": [
    "data"
   ]
  },
  {
   "cell_type": "markdown",
   "metadata": {},
   "source": [
    "# Train"
   ]
  },
  {
   "cell_type": "code",
   "execution_count": 14,
   "metadata": {},
   "outputs": [],
   "source": [
    "from sklearn.model_selection import train_test_split\n"
   ]
  },
  {
   "cell_type": "code",
   "execution_count": 15,
   "metadata": {},
   "outputs": [],
   "source": [
    "X_train, X_test, y_train, y_test = train_test_split(data.drop(['Close',\"Adj Close\",'Volume','Low','High']\n",
    "                                                              ,axis=1), \n",
    "                                                    data['Close'], test_size=0.30,shuffle=False)"
   ]
  },
  {
   "cell_type": "code",
   "execution_count": 16,
   "metadata": {},
   "outputs": [
    {
     "data": {
      "text/html": [
       "<div>\n",
       "<style scoped>\n",
       "    .dataframe tbody tr th:only-of-type {\n",
       "        vertical-align: middle;\n",
       "    }\n",
       "\n",
       "    .dataframe tbody tr th {\n",
       "        vertical-align: top;\n",
       "    }\n",
       "\n",
       "    .dataframe thead th {\n",
       "        text-align: right;\n",
       "    }\n",
       "</style>\n",
       "<table border=\"1\" class=\"dataframe\">\n",
       "  <thead>\n",
       "    <tr style=\"text-align: right;\">\n",
       "      <th></th>\n",
       "      <th>Date</th>\n",
       "      <th>Open</th>\n",
       "      <th>Yesterday Close</th>\n",
       "      <th>2days ago Close</th>\n",
       "      <th>3days ago Close</th>\n",
       "    </tr>\n",
       "  </thead>\n",
       "  <tbody>\n",
       "    <tr>\n",
       "      <th>0</th>\n",
       "      <td>2020-08-24</td>\n",
       "      <td>11663.689453</td>\n",
       "      <td>11774.595703</td>\n",
       "      <td>11774.595703</td>\n",
       "      <td>11774.595703</td>\n",
       "    </tr>\n",
       "    <tr>\n",
       "      <th>1</th>\n",
       "      <td>2020-08-25</td>\n",
       "      <td>11773.588867</td>\n",
       "      <td>11774.595703</td>\n",
       "      <td>11774.595703</td>\n",
       "      <td>11774.595703</td>\n",
       "    </tr>\n",
       "    <tr>\n",
       "      <th>2</th>\n",
       "      <td>2020-08-26</td>\n",
       "      <td>11366.894531</td>\n",
       "      <td>11366.134766</td>\n",
       "      <td>11774.595703</td>\n",
       "      <td>11774.595703</td>\n",
       "    </tr>\n",
       "    <tr>\n",
       "      <th>3</th>\n",
       "      <td>2020-08-27</td>\n",
       "      <td>11485.608398</td>\n",
       "      <td>11488.363281</td>\n",
       "      <td>11366.134766</td>\n",
       "      <td>11774.595703</td>\n",
       "    </tr>\n",
       "    <tr>\n",
       "      <th>4</th>\n",
       "      <td>2020-08-28</td>\n",
       "      <td>11325.295898</td>\n",
       "      <td>11323.397461</td>\n",
       "      <td>11488.363281</td>\n",
       "      <td>11366.134766</td>\n",
       "    </tr>\n",
       "    <tr>\n",
       "      <th>...</th>\n",
       "      <td>...</td>\n",
       "      <td>...</td>\n",
       "      <td>...</td>\n",
       "      <td>...</td>\n",
       "      <td>...</td>\n",
       "    </tr>\n",
       "    <tr>\n",
       "      <th>252</th>\n",
       "      <td>2021-05-03</td>\n",
       "      <td>56620.273438</td>\n",
       "      <td>56631.078125</td>\n",
       "      <td>57828.050781</td>\n",
       "      <td>57750.175781</td>\n",
       "    </tr>\n",
       "    <tr>\n",
       "      <th>253</th>\n",
       "      <td>2021-05-04</td>\n",
       "      <td>57214.179688</td>\n",
       "      <td>57200.292969</td>\n",
       "      <td>56631.078125</td>\n",
       "      <td>57828.050781</td>\n",
       "    </tr>\n",
       "    <tr>\n",
       "      <th>254</th>\n",
       "      <td>2021-05-05</td>\n",
       "      <td>53252.164063</td>\n",
       "      <td>53333.539063</td>\n",
       "      <td>57200.292969</td>\n",
       "      <td>56631.078125</td>\n",
       "    </tr>\n",
       "    <tr>\n",
       "      <th>255</th>\n",
       "      <td>2021-05-06</td>\n",
       "      <td>57441.308594</td>\n",
       "      <td>57424.007813</td>\n",
       "      <td>53333.539063</td>\n",
       "      <td>57200.292969</td>\n",
       "    </tr>\n",
       "    <tr>\n",
       "      <th>256</th>\n",
       "      <td>2021-05-07</td>\n",
       "      <td>56413.953125</td>\n",
       "      <td>56396.515625</td>\n",
       "      <td>57424.007813</td>\n",
       "      <td>53333.539063</td>\n",
       "    </tr>\n",
       "  </tbody>\n",
       "</table>\n",
       "<p>254 rows × 5 columns</p>\n",
       "</div>"
      ],
      "text/plain": [
       "           Date          Open  Yesterday Close  2days ago Close  \\\n",
       "0    2020-08-24  11663.689453     11774.595703     11774.595703   \n",
       "1    2020-08-25  11773.588867     11774.595703     11774.595703   \n",
       "2    2020-08-26  11366.894531     11366.134766     11774.595703   \n",
       "3    2020-08-27  11485.608398     11488.363281     11366.134766   \n",
       "4    2020-08-28  11325.295898     11323.397461     11488.363281   \n",
       "..          ...           ...              ...              ...   \n",
       "252  2021-05-03  56620.273438     56631.078125     57828.050781   \n",
       "253  2021-05-04  57214.179688     57200.292969     56631.078125   \n",
       "254  2021-05-05  53252.164063     53333.539063     57200.292969   \n",
       "255  2021-05-06  57441.308594     57424.007813     53333.539063   \n",
       "256  2021-05-07  56413.953125     56396.515625     57424.007813   \n",
       "\n",
       "     3days ago Close  \n",
       "0       11774.595703  \n",
       "1       11774.595703  \n",
       "2       11774.595703  \n",
       "3       11774.595703  \n",
       "4       11366.134766  \n",
       "..               ...  \n",
       "252     57750.175781  \n",
       "253     57828.050781  \n",
       "254     56631.078125  \n",
       "255     57200.292969  \n",
       "256     53333.539063  \n",
       "\n",
       "[254 rows x 5 columns]"
      ]
     },
     "execution_count": 16,
     "metadata": {},
     "output_type": "execute_result"
    }
   ],
   "source": [
    "X_train"
   ]
  },
  {
   "cell_type": "code",
   "execution_count": 17,
   "metadata": {},
   "outputs": [
    {
     "data": {
      "text/plain": [
       "0      11774.595703\n",
       "1      11366.134766\n",
       "2      11488.363281\n",
       "3      11323.397461\n",
       "4      11542.500000\n",
       "           ...     \n",
       "252    57200.292969\n",
       "253    53333.539063\n",
       "254    57424.007813\n",
       "255    56396.515625\n",
       "256    57356.402344\n",
       "Name: Close, Length: 254, dtype: float64"
      ]
     },
     "execution_count": 17,
     "metadata": {},
     "output_type": "execute_result"
    }
   ],
   "source": [
    "y_train"
   ]
  },
  {
   "cell_type": "code",
   "execution_count": 18,
   "metadata": {},
   "outputs": [],
   "source": [
    "from sklearn.linear_model import LinearRegression"
   ]
  },
  {
   "cell_type": "code",
   "execution_count": 19,
   "metadata": {},
   "outputs": [
    {
     "data": {
      "text/plain": [
       "LinearRegression()"
      ]
     },
     "execution_count": 19,
     "metadata": {},
     "output_type": "execute_result"
    }
   ],
   "source": [
    "lm = LinearRegression()\n",
    "lm.fit(X_train.drop(['Date'] ,axis=1),y_train)"
   ]
  },
  {
   "cell_type": "markdown",
   "metadata": {},
   "source": [
    "\n",
    "# Test"
   ]
  },
  {
   "cell_type": "code",
   "execution_count": 20,
   "metadata": {},
   "outputs": [],
   "source": [
    "predictions = lm.predict(X_test.drop(['Date'],axis=1))"
   ]
  },
  {
   "cell_type": "code",
   "execution_count": 21,
   "metadata": {},
   "outputs": [
    {
     "data": {
      "text/plain": [
       "array([57399.6305387 , 58990.58059702, 58453.40928849, 56033.92455572,\n",
       "       56712.7267132 , 50217.71060223, 49489.24216659, 50007.58717665,\n",
       "       46974.09110328, 46439.42447865, 43724.4952604 , 42999.75589957,\n",
       "       37081.77843783, 40360.88837615, 37813.00545479, 37539.39664428,\n",
       "       34967.33447584, 38704.72179348, 38720.30011013, 39429.50010562,\n",
       "       38735.76517441, 35907.96337174, 34697.39521241, 35736.928707  ,\n",
       "       37434.11388268, 36951.58890621, 37701.1924926 , 39378.17998839,\n",
       "       37188.19358274, 35653.28814531, 35928.99519221, 33851.96544243,\n",
       "       33488.12140173, 37409.26673434, 37037.54042212, 37450.55920698,\n",
       "       35807.48990475, 38967.69836445, 40699.62564928, 40344.91077268,\n",
       "       38579.37063329, 38186.65677873, 36089.74134683, 35635.11055338,\n",
       "       35789.04455895, 31934.71258342, 32490.09016389, 33835.57061228,\n",
       "       34838.50389929, 31907.13635254, 32319.36432473, 34778.99159279,\n",
       "       34750.51184748, 36012.53067027, 35286.58947071, 33732.35394642,\n",
       "       33944.90899418, 34814.57883001, 35455.88929264, 33967.55754494,\n",
       "       34308.96553135, 34090.46766391, 33046.80552073, 33904.41982476,\n",
       "       33721.36199387, 34382.21035364, 33357.76631743, 32864.36222488,\n",
       "       32972.2577157 , 32056.5124976 , 31535.32003321, 31684.40597153,\n",
       "       31963.98588522, 31055.81734457, 29963.8983893 , 32185.28342778,\n",
       "       32559.91487484, 33722.93116526, 34480.68270146, 35539.84852654,\n",
       "       37402.75042065, 39671.95181946, 40212.88553233, 40206.44731216,\n",
       "       42264.64469436, 41713.45731528, 40091.00562935, 39292.60163034,\n",
       "       38380.79637346, 39799.05333777, 41043.09682835, 42959.16440041,\n",
       "       44738.95659865, 44036.92307739, 46295.20607441, 45877.53943387,\n",
       "       45687.79200645, 44628.75000017, 47784.29152026, 47400.345906  ,\n",
       "       47133.11931619, 46110.53920369, 44836.23895533, 44826.26047319,\n",
       "       46801.48466163, 49448.22892866, 49127.40295293, 49394.65160839,\n",
       "       49601.58747454])"
      ]
     },
     "execution_count": 21,
     "metadata": {},
     "output_type": "execute_result"
    }
   ],
   "source": [
    "predictions"
   ]
  },
  {
   "cell_type": "code",
   "execution_count": 22,
   "metadata": {},
   "outputs": [],
   "source": [
    "import matplotlib.pyplot as plt"
   ]
  },
  {
   "cell_type": "code",
   "execution_count": 23,
   "metadata": {},
   "outputs": [
    {
     "data": {
      "text/plain": [
       "<matplotlib.legend.Legend at 0x7dbab07f0>"
      ]
     },
     "execution_count": 23,
     "metadata": {},
     "output_type": "execute_result"
    },
    {
     "data": {
      "image/png": "[encoded data removed]",
      "text/plain": [
       "<Figure size 720x720 with 1 Axes>"
      ]
     },
     "metadata": {
      "needs_background": "light"
     },
     "output_type": "display_data"
    }
   ],
   "source": [
    "fig , ax = plt.subplots(figsize=(10,10))\n",
    "ax.plot(X_test['Date'],predictions,label='Pred')\n",
    "ax.plot(X_test['Date'],y_test,label=\"Real\")\n",
    "ax.set_xticks(ax.get_xticks()[::15])\n",
    "fig.legend()"
   ]
  },
  {
   "cell_type": "code",
   "execution_count": 24,
   "metadata": {},
   "outputs": [
    {
     "name": "stdout",
     "output_type": "stream",
     "text": [
      "MAE: 1333.8935710932788\n"
     ]
    }
   ],
   "source": [
    "from sklearn import metrics\n",
    "\n",
    "print('MAE:', metrics.mean_absolute_error(y_test, predictions))"
   ]
  },
  {
   "cell_type": "code",
   "execution_count": 27,
   "metadata": {},
   "outputs": [
    {
     "data": {
      "text/plain": [
       "2.964207935762842"
      ]
     },
     "execution_count": 27,
     "metadata": {},
     "output_type": "execute_result"
    }
   ],
   "source": [
    "(metrics.mean_absolute_error(y_test, predictions)/45000)*100"
   ]
  },
  {
   "cell_type": "code",
   "execution_count": 33,
   "metadata": {},
   "outputs": [
    {
     "data": {
      "text/plain": [
       "array([46801.48346119])"
      ]
     },
     "execution_count": 33,
     "metadata": {},
     "output_type": "execute_result"
    }
   ],
   "source": [
    "            # Open         Yesterday       2 days ago     3days ago\n",
    "lm.predict([[46723.12 ,    46717.58 ,     44801.19,    44695.36]])"
   ]
  },
  {
   "cell_type": "code",
   "execution_count": 34,
   "metadata": {},
   "outputs": [
    {
     "data": {
      "text/plain": [
       "array([44826.25743126])"
      ]
     },
     "execution_count": 34,
     "metadata": {},
     "output_type": "execute_result"
    }
   ],
   "source": [
    "            # Open         Yesterday       2 days ago     3days ago\n",
    "lm.predict([[44741.88,    44801.19,     44695.36,    46004.48]])"
   ]
  },
  {
   "cell_type": "code",
   "execution_count": null,
   "metadata": {
    "collapsed": true
   },
   "outputs": [],
   "source": []
  }
 ],
 "metadata": {
  "kernelspec": {
   "display_name": "Python 3",
   "language": "python",
   "name": "python3"
  },
  "language_info": {
   "codemirror_mode": {
    "name": "ipython",
    "version": 3
   },
   "file_extension": ".py",
   "mimetype": "text/x-python",
   "name": "python",
   "nbconvert_exporter": "python",
   "pygments_lexer": "ipython3",
   "version": "3.8.5"
  }
 },
 "nbformat": 4,
 "nbformat_minor": 4
}

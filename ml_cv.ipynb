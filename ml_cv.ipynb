{
 "cells": [
  {
   "cell_type": "code",
   "execution_count": 1,
   "metadata": {},
   "outputs": [],
   "source": [
    "import cv2\n",
    "import numpy as np\n",
    "\n",
    "import matplotlib.pyplot as plt"
   ]
  },
  {
   "cell_type": "code",
   "execution_count": 2,
   "metadata": {},
   "outputs": [],
   "source": [
    "img = cv2.imread(r'C:\\Users\\Farid\\Desktop\\im2.jpg',0)\n",
    "im_ar = np.array(img)"
   ]
  },
  {
   "cell_type": "code",
   "execution_count": 3,
   "metadata": {},
   "outputs": [
    {
     "data": {
      "text/plain": [
       "(324, 612)"
      ]
     },
     "execution_count": 3,
     "metadata": {},
     "output_type": "execute_result"
    }
   ],
   "source": [
    "im_ar.shape"
   ]
  },
  {
   "cell_type": "code",
   "execution_count": 4,
   "metadata": {},
   "outputs": [],
   "source": [
    "# plt.hist\n",
    "# bins == 256 ta"
   ]
  },
  {
   "cell_type": "code",
   "execution_count": 5,
   "metadata": {},
   "outputs": [
    {
     "name": "stdout",
     "output_type": "stream",
     "text": [
      "[[193 193 193 ... 193 193 193]\n",
      " [193 193 193 ... 193 193 193]\n",
      " [193 193 193 ... 193 193 193]\n",
      " ...\n",
      " [193 193 193 ... 193 193 193]\n",
      " [193 193 193 ... 193 193 193]\n",
      " [193 193 193 ... 193 193 193]]\n"
     ]
    }
   ],
   "source": [
    "print(im_ar)"
   ]
  },
  {
   "cell_type": "code",
   "execution_count": 6,
   "metadata": {},
   "outputs": [],
   "source": [
    "im_rav = np.ravel(im_ar)"
   ]
  },
  {
   "cell_type": "code",
   "execution_count": 7,
   "metadata": {},
   "outputs": [
    {
     "data": {
      "text/plain": [
       "198288"
      ]
     },
     "execution_count": 7,
     "metadata": {},
     "output_type": "execute_result"
    }
   ],
   "source": [
    "len(im_rav)"
   ]
  },
  {
   "cell_type": "code",
   "execution_count": 8,
   "metadata": {},
   "outputs": [
    {
     "data": {
      "text/plain": [
       "198288"
      ]
     },
     "execution_count": 8,
     "metadata": {},
     "output_type": "execute_result"
    }
   ],
   "source": [
    "324* 612"
   ]
  },
  {
   "cell_type": "code",
   "execution_count": 9,
   "metadata": {},
   "outputs": [
    {
     "data": {
      "text/plain": [
       "array([193, 193, 193, ..., 193, 193, 193], dtype=uint8)"
      ]
     },
     "execution_count": 9,
     "metadata": {},
     "output_type": "execute_result"
    }
   ],
   "source": [
    "np.reshape(im_ar,(198288 ,))"
   ]
  },
  {
   "cell_type": "code",
   "execution_count": 10,
   "metadata": {},
   "outputs": [
    {
     "ename": "ValueError",
     "evalue": "cannot reshape array of size 198288 into shape (198287,)",
     "output_type": "error",
     "traceback": [
      "\u001b[1;31m---------------------------------------------------------------------------\u001b[0m",
      "\u001b[1;31mValueError\u001b[0m                                Traceback (most recent call last)",
      "\u001b[1;32m<ipython-input-10-d780251527e3>\u001b[0m in \u001b[0;36m<module>\u001b[1;34m\u001b[0m\n\u001b[1;32m----> 1\u001b[1;33m \u001b[0mnp\u001b[0m\u001b[1;33m.\u001b[0m\u001b[0mreshape\u001b[0m\u001b[1;33m(\u001b[0m\u001b[0mim_ar\u001b[0m\u001b[1;33m,\u001b[0m\u001b[1;33m(\u001b[0m\u001b[1;36m198287\u001b[0m \u001b[1;33m,\u001b[0m\u001b[1;33m)\u001b[0m\u001b[1;33m)\u001b[0m\u001b[1;33m\u001b[0m\u001b[1;33m\u001b[0m\u001b[0m\n\u001b[0m",
      "\u001b[1;32m<__array_function__ internals>\u001b[0m in \u001b[0;36mreshape\u001b[1;34m(*args, **kwargs)\u001b[0m\n",
      "\u001b[1;32m~\\anaconda3-NEW\\lib\\site-packages\\numpy\\core\\fromnumeric.py\u001b[0m in \u001b[0;36mreshape\u001b[1;34m(a, newshape, order)\u001b[0m\n\u001b[0;32m    297\u001b[0m            [5, 6]])\n\u001b[0;32m    298\u001b[0m     \"\"\"\n\u001b[1;32m--> 299\u001b[1;33m     \u001b[1;32mreturn\u001b[0m \u001b[0m_wrapfunc\u001b[0m\u001b[1;33m(\u001b[0m\u001b[0ma\u001b[0m\u001b[1;33m,\u001b[0m \u001b[1;34m'reshape'\u001b[0m\u001b[1;33m,\u001b[0m \u001b[0mnewshape\u001b[0m\u001b[1;33m,\u001b[0m \u001b[0morder\u001b[0m\u001b[1;33m=\u001b[0m\u001b[0morder\u001b[0m\u001b[1;33m)\u001b[0m\u001b[1;33m\u001b[0m\u001b[1;33m\u001b[0m\u001b[0m\n\u001b[0m\u001b[0;32m    300\u001b[0m \u001b[1;33m\u001b[0m\u001b[0m\n\u001b[0;32m    301\u001b[0m \u001b[1;33m\u001b[0m\u001b[0m\n",
      "\u001b[1;32m~\\anaconda3-NEW\\lib\\site-packages\\numpy\\core\\fromnumeric.py\u001b[0m in \u001b[0;36m_wrapfunc\u001b[1;34m(obj, method, *args, **kwds)\u001b[0m\n\u001b[0;32m     56\u001b[0m \u001b[1;33m\u001b[0m\u001b[0m\n\u001b[0;32m     57\u001b[0m     \u001b[1;32mtry\u001b[0m\u001b[1;33m:\u001b[0m\u001b[1;33m\u001b[0m\u001b[1;33m\u001b[0m\u001b[0m\n\u001b[1;32m---> 58\u001b[1;33m         \u001b[1;32mreturn\u001b[0m \u001b[0mbound\u001b[0m\u001b[1;33m(\u001b[0m\u001b[1;33m*\u001b[0m\u001b[0margs\u001b[0m\u001b[1;33m,\u001b[0m \u001b[1;33m**\u001b[0m\u001b[0mkwds\u001b[0m\u001b[1;33m)\u001b[0m\u001b[1;33m\u001b[0m\u001b[1;33m\u001b[0m\u001b[0m\n\u001b[0m\u001b[0;32m     59\u001b[0m     \u001b[1;32mexcept\u001b[0m \u001b[0mTypeError\u001b[0m\u001b[1;33m:\u001b[0m\u001b[1;33m\u001b[0m\u001b[1;33m\u001b[0m\u001b[0m\n\u001b[0;32m     60\u001b[0m         \u001b[1;31m# A TypeError occurs if the object does have such a method in its\u001b[0m\u001b[1;33m\u001b[0m\u001b[1;33m\u001b[0m\u001b[1;33m\u001b[0m\u001b[0m\n",
      "\u001b[1;31mValueError\u001b[0m: cannot reshape array of size 198288 into shape (198287,)"
     ]
    }
   ],
   "source": [
    "np.reshape(im_ar,(198287 ,))"
   ]
  },
  {
   "cell_type": "code",
   "execution_count": 11,
   "metadata": {},
   "outputs": [
    {
     "data": {
      "text/plain": [
       "array([193, 193, 193, ..., 193, 193, 193], dtype=uint8)"
      ]
     },
     "execution_count": 11,
     "metadata": {},
     "output_type": "execute_result"
    }
   ],
   "source": [
    "np.reshape(im_ar,(-1 ,))"
   ]
  },
  {
   "cell_type": "code",
   "execution_count": 12,
   "metadata": {},
   "outputs": [
    {
     "data": {
      "text/plain": [
       "array([193, 193, 193, ..., 193, 193, 193], dtype=uint8)"
      ]
     },
     "execution_count": 12,
     "metadata": {},
     "output_type": "execute_result"
    }
   ],
   "source": [
    "im_rav"
   ]
  },
  {
   "cell_type": "code",
   "execution_count": 13,
   "metadata": {},
   "outputs": [
    {
     "data": {
      "text/plain": [
       "(array([2.900e+01, 4.000e+00, 8.000e+00, 2.000e+00, 6.000e+00, 8.000e+00,\n",
       "        9.000e+00, 1.000e+01, 9.000e+00, 1.000e+01, 9.000e+00, 8.000e+00,\n",
       "        1.000e+01, 9.000e+00, 1.000e+01, 6.000e+00, 4.000e+00, 1.400e+01,\n",
       "        6.000e+00, 1.100e+01, 1.100e+01, 7.000e+00, 1.200e+01, 2.100e+01,\n",
       "        1.900e+01, 1.700e+01, 1.600e+01, 1.900e+01, 2.100e+01, 8.000e+00,\n",
       "        2.800e+01, 1.300e+01, 8.000e+00, 2.000e+01, 1.200e+01, 2.400e+01,\n",
       "        2.200e+01, 1.700e+01, 2.200e+01, 3.200e+01, 2.400e+01, 2.100e+01,\n",
       "        2.100e+01, 2.200e+01, 3.400e+01, 3.500e+01, 3.900e+01, 5.800e+01,\n",
       "        4.400e+01, 5.500e+01, 4.800e+01, 5.100e+01, 6.100e+01, 5.800e+01,\n",
       "        6.900e+01, 6.900e+01, 4.900e+01, 5.500e+01, 4.800e+01, 5.500e+01,\n",
       "        4.300e+01, 3.400e+01, 2.500e+01, 3.900e+01, 3.000e+01, 5.200e+01,\n",
       "        4.600e+01, 4.700e+01, 5.200e+01, 4.600e+01, 3.800e+01, 3.800e+01,\n",
       "        3.600e+01, 3.900e+01, 4.400e+01, 3.900e+01, 4.400e+01, 4.600e+01,\n",
       "        7.300e+01, 7.300e+01, 8.300e+01, 1.030e+02, 1.050e+02, 1.050e+02,\n",
       "        1.090e+02, 1.390e+02, 1.280e+02, 1.270e+02, 1.020e+02, 1.000e+02,\n",
       "        7.000e+01, 6.500e+01, 8.900e+01, 1.120e+02, 9.600e+01, 8.900e+01,\n",
       "        1.030e+02, 8.900e+01, 1.200e+02, 1.450e+02, 9.000e+01, 6.000e+01,\n",
       "        7.100e+01, 6.100e+01, 5.600e+01, 4.300e+01, 4.800e+01, 7.300e+01,\n",
       "        4.900e+01, 5.100e+01, 4.400e+01, 3.100e+01, 3.200e+01, 4.400e+01,\n",
       "        3.600e+01, 4.300e+01, 3.600e+01, 3.600e+01, 4.400e+01, 5.700e+01,\n",
       "        5.100e+01, 4.000e+01, 2.300e+01, 2.100e+01, 2.200e+01, 2.500e+01,\n",
       "        1.700e+01, 1.600e+01, 2.000e+01, 2.800e+01, 2.700e+01, 2.400e+01,\n",
       "        2.100e+01, 1.800e+01, 1.900e+01, 1.700e+01, 2.000e+01, 2.400e+01,\n",
       "        1.700e+01, 2.600e+01, 2.100e+01, 4.300e+01, 4.400e+01, 5.000e+01,\n",
       "        3.000e+01, 4.800e+01, 2.800e+01, 3.000e+01, 2.500e+01, 2.100e+01,\n",
       "        3.000e+01, 2.900e+01, 3.300e+01, 2.700e+01, 3.400e+01, 5.500e+01,\n",
       "        6.700e+01, 4.400e+01, 4.000e+01, 3.000e+01, 4.700e+01, 3.800e+01,\n",
       "        5.900e+01, 6.800e+01, 5.100e+01, 3.100e+01, 4.300e+01, 4.500e+01,\n",
       "        4.600e+01, 3.500e+01, 5.400e+01, 6.400e+01, 4.100e+01, 6.700e+01,\n",
       "        6.500e+01, 6.700e+01, 7.800e+01, 6.800e+01, 4.600e+01, 6.200e+01,\n",
       "        7.300e+01, 9.500e+01, 7.300e+01, 1.160e+02, 1.380e+02, 1.350e+02,\n",
       "        1.570e+02, 1.680e+02, 3.080e+02, 2.710e+02, 3.400e+02, 4.200e+02,\n",
       "        5.710e+02, 1.645e+05, 6.250e+02, 4.760e+02, 3.170e+02, 2.670e+02,\n",
       "        2.750e+02, 2.210e+02, 1.950e+02, 2.770e+02, 2.210e+02, 1.940e+02,\n",
       "        1.720e+02, 1.880e+02, 2.130e+02, 1.680e+02, 2.150e+02, 1.960e+02,\n",
       "        1.980e+02, 2.400e+02, 3.090e+02, 3.020e+02, 1.570e+02, 2.510e+02,\n",
       "        2.190e+02, 1.840e+02, 2.920e+02, 2.070e+02, 1.820e+02, 2.540e+02,\n",
       "        2.820e+02, 2.060e+02, 2.580e+02, 2.720e+02, 3.660e+02, 2.420e+02,\n",
       "        3.330e+02, 2.270e+02, 3.960e+02, 2.940e+02, 2.880e+02, 3.580e+02,\n",
       "        3.520e+02, 3.400e+02, 3.580e+02, 4.950e+02, 6.720e+02, 6.380e+02,\n",
       "        5.760e+02, 3.700e+02, 4.470e+02, 4.210e+02, 4.300e+02, 4.520e+02,\n",
       "        3.070e+02, 2.640e+02, 4.170e+02, 2.750e+02, 3.210e+02, 2.960e+02,\n",
       "        3.710e+02, 5.540e+02, 4.335e+03]),\n",
       " array([  0,   1,   2,   3,   4,   5,   6,   7,   8,   9,  10,  11,  12,\n",
       "         13,  14,  15,  16,  17,  18,  19,  20,  21,  22,  23,  24,  25,\n",
       "         26,  27,  28,  29,  30,  31,  32,  33,  34,  35,  36,  37,  38,\n",
       "         39,  40,  41,  42,  43,  44,  45,  46,  47,  48,  49,  50,  51,\n",
       "         52,  53,  54,  55,  56,  57,  58,  59,  60,  61,  62,  63,  64,\n",
       "         65,  66,  67,  68,  69,  70,  71,  72,  73,  74,  75,  76,  77,\n",
       "         78,  79,  80,  81,  82,  83,  84,  85,  86,  87,  88,  89,  90,\n",
       "         91,  92,  93,  94,  95,  96,  97,  98,  99, 100, 101, 102, 103,\n",
       "        104, 105, 106, 107, 108, 109, 110, 111, 112, 113, 114, 115, 116,\n",
       "        117, 118, 119, 120, 121, 122, 123, 124, 125, 126, 127, 128, 129,\n",
       "        130, 131, 132, 133, 134, 135, 136, 137, 138, 139, 140, 141, 142,\n",
       "        143, 144, 145, 146, 147, 148, 149, 150, 151, 152, 153, 154, 155,\n",
       "        156, 157, 158, 159, 160, 161, 162, 163, 164, 165, 166, 167, 168,\n",
       "        169, 170, 171, 172, 173, 174, 175, 176, 177, 178, 179, 180, 181,\n",
       "        182, 183, 184, 185, 186, 187, 188, 189, 190, 191, 192, 193, 194,\n",
       "        195, 196, 197, 198, 199, 200, 201, 202, 203, 204, 205, 206, 207,\n",
       "        208, 209, 210, 211, 212, 213, 214, 215, 216, 217, 218, 219, 220,\n",
       "        221, 222, 223, 224, 225, 226, 227, 228, 229, 230, 231, 232, 233,\n",
       "        234, 235, 236, 237, 238, 239, 240, 241, 242, 243, 244, 245, 246,\n",
       "        247, 248, 249, 250, 251, 252, 253, 254, 255]),\n",
       " <BarContainer object of 255 artists>)"
      ]
     },
     "execution_count": 13,
     "metadata": {},
     "output_type": "execute_result"
    },
    {
     "data": {
      "image/png": "[encoded data removed]",
      "text/plain": [
       "<Figure size 432x288 with 1 Axes>"
      ]
     },
     "metadata": {
      "needs_background": "light"
     },
     "output_type": "display_data"
    }
   ],
   "source": [
    "plt.hist(im_rav,bins=list(range(0,256)))"
   ]
  },
  {
   "cell_type": "code",
   "execution_count": null,
   "metadata": {},
   "outputs": [],
   "source": []
  },
  {
   "cell_type": "code",
   "execution_count": 14,
   "metadata": {},
   "outputs": [
    {
     "data": {
      "image/png": "[encoded data removed]",
      "text/plain": [
       "<Figure size 432x288 with 1 Axes>"
      ]
     },
     "metadata": {
      "needs_background": "light"
     },
     "output_type": "display_data"
    }
   ],
   "source": [
    "fig, ax = plt.subplots()\n",
    "\n",
    "im = ax.imshow(im_ar)\n",
    "\n",
    "\n"
   ]
  },
  {
   "cell_type": "code",
   "execution_count": 15,
   "metadata": {},
   "outputs": [
    {
     "data": {
      "text/plain": [
       "array([202, 228, 246, ..., 201, 204, 205], dtype=uint8)"
      ]
     },
     "execution_count": 15,
     "metadata": {},
     "output_type": "execute_result"
    }
   ],
   "source": [
    "im_ar[im_ar>200]"
   ]
  },
  {
   "cell_type": "code",
   "execution_count": 16,
   "metadata": {},
   "outputs": [
    {
     "data": {
      "text/plain": [
       "array([[False, False, False, ..., False, False, False],\n",
       "       [False, False, False, ..., False, False, False],\n",
       "       [False, False, False, ..., False, False, False],\n",
       "       ...,\n",
       "       [False, False, False, ..., False, False, False],\n",
       "       [False, False, False, ..., False, False, False],\n",
       "       [False, False, False, ..., False, False, False]])"
      ]
     },
     "execution_count": 16,
     "metadata": {},
     "output_type": "execute_result"
    }
   ],
   "source": [
    "im_ar>200"
   ]
  },
  {
   "cell_type": "code",
   "execution_count": 17,
   "metadata": {},
   "outputs": [],
   "source": [
    "im_ar[im_ar>200]=255"
   ]
  },
  {
   "cell_type": "code",
   "execution_count": 18,
   "metadata": {},
   "outputs": [],
   "source": [
    "im_ar[im_ar<=200]=0"
   ]
  },
  {
   "cell_type": "code",
   "execution_count": 21,
   "metadata": {},
   "outputs": [
    {
     "data": {
      "image/png": "[encoded data removed]",
      "text/plain": [
       "<Figure size 432x288 with 1 Axes>"
      ]
     },
     "metadata": {
      "needs_background": "light"
     },
     "output_type": "display_data"
    }
   ],
   "source": [
    "fig, ax = plt.subplots()\n",
    "\n",
    "im = ax.imshow(im_ar)\n",
    "\n"
   ]
  },
  {
   "cell_type": "code",
   "execution_count": 20,
   "metadata": {},
   "outputs": [],
   "source": [
    "im_ar[im_ar==255]=1"
   ]
  },
  {
   "cell_type": "code",
   "execution_count": 22,
   "metadata": {},
   "outputs": [
    {
     "data": {
      "text/plain": [
       "array([[0, 0, 0, ..., 0, 0, 0],\n",
       "       [0, 0, 0, ..., 0, 0, 0],\n",
       "       [0, 0, 0, ..., 0, 0, 0],\n",
       "       ...,\n",
       "       [0, 0, 0, ..., 0, 0, 0],\n",
       "       [0, 0, 0, ..., 0, 0, 0],\n",
       "       [0, 0, 0, ..., 0, 0, 0]], dtype=uint8)"
      ]
     },
     "execution_count": 22,
     "metadata": {},
     "output_type": "execute_result"
    }
   ],
   "source": [
    "im_ar"
   ]
  },
  {
   "cell_type": "code",
   "execution_count": null,
   "metadata": {},
   "outputs": [],
   "source": []
  }
 ],
 "metadata": {
  "kernelspec": {
   "display_name": "Python 3",
   "language": "python",
   "name": "python3"
  },
  "language_info": {
   "codemirror_mode": {
    "name": "ipython",
    "version": 3
   },
   "file_extension": ".py",
   "mimetype": "text/x-python",
   "name": "python",
   "nbconvert_exporter": "python",
   "pygments_lexer": "ipython3",
   "version": "3.8.5"
  }
 },
 "nbformat": 4,
 "nbformat_minor": 4
}

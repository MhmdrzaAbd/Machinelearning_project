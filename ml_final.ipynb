{
 "cells": [
  {
   "cell_type": "raw",
   "metadata": {},
   "source": [
    "دیتابیس سرطان سینه را دریافت کنید "
   ]
  },
  {
   "cell_type": "code",
   "execution_count": 1,
   "metadata": {},
   "outputs": [],
   "source": [
    "import pandas as pd"
   ]
  },
  {
   "cell_type": "markdown",
   "metadata": {},
   "source": [
    "نرمالیزه نموده و از تحلیل مولفه های اصلی استفاده نمایید و 4 ستون اصلی را ایجاد کنید"
   ]
  },
  {
   "cell_type": "raw",
   "metadata": {},
   "source": [
    "scaler\n",
    "pca"
   ]
  },
  {
   "cell_type": "markdown",
   "metadata": {},
   "source": [
    "در صفحه ای نمودار های اسکتر (نقطه ای، پراکندگی) دو به دو ستون ها را در برابر هم نمایش دهید"
   ]
  },
  {
   "cell_type": "raw",
   "metadata": {},
   "source": [
    "scatter"
   ]
  },
  {
   "cell_type": "markdown",
   "metadata": {},
   "source": [
    "داده را بر اساس 30 درصد تست و 70 درصد آموزش تقسیم نموده و "
   ]
  },
  {
   "cell_type": "raw",
   "metadata": {},
   "source": [
    "split"
   ]
  },
  {
   "cell_type": "markdown",
   "metadata": {},
   "source": [
    "با ماشین های بردار پشتیبان آموزش داده و گزارشات مناسب دسته بندی باینری را نمایش دهید "
   ]
  },
  {
   "cell_type": "raw",
   "metadata": {},
   "source": [
    "svm"
   ]
  },
  {
   "cell_type": "markdown",
   "metadata": {},
   "source": [
    "GridSearch"
   ]
  },
  {
   "cell_type": "markdown",
   "metadata": {},
   "source": [
    "با روش فوق بهترین مقادیر پارامتر ها را کشف نمایید"
   ]
  },
  {
   "cell_type": "markdown",
   "metadata": {},
   "source": [
    "با استفاده از الگوریتم نزدیکترین همسایه با همان توزیع 30 درصدی و 4 مولفه ای مدل طبقه بند ایجاد نمایید"
   ]
  },
  {
   "cell_type": "raw",
   "metadata": {},
   "source": [
    "KNN\n",
    "k=2"
   ]
  },
  {
   "cell_type": "markdown",
   "metadata": {},
   "source": [
    "مقدار بهینه برای همسایگی"
   ]
  },
  {
   "cell_type": "markdown",
   "metadata": {},
   "source": [
    "KNN\n",
    "best k=?"
   ]
  }
 ],
 "metadata": {
  "kernelspec": {
   "display_name": "Python 3",
   "language": "python",
   "name": "python3"
  },
  "language_info": {
   "codemirror_mode": {
    "name": "ipython",
    "version": 3
   },
   "file_extension": ".py",
   "mimetype": "text/x-python",
   "name": "python",
   "nbconvert_exporter": "python",
   "pygments_lexer": "ipython3",
   "version": "3.8.5"
  }
 },
 "nbformat": 4,
 "nbformat_minor": 4
}
